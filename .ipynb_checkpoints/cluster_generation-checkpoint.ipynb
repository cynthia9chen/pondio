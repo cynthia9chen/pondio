{
 "cells": [
  {
   "cell_type": "code",
   "execution_count": 1,
   "metadata": {
    "id": "R6VHjzJ6YUZT"
   },
   "outputs": [],
   "source": [
    "# 1: use sentence transformer\n",
    "# https://github.com/UKPLab/sentence-transformers/blob/master/examples/applications/clustering/kmeans.py\n",
    "from sentence_transformers import SentenceTransformer\n",
    "from sklearn.cluster import KMeans"
   ]
  },
  {
   "cell_type": "code",
   "execution_count": 2,
   "metadata": {
    "id": "5pSbq_sgYXOa"
   },
   "outputs": [],
   "source": [
    "import csv\n",
    "import numpy as np\n",
    "import pandas as pd\n",
    "from pandas import read_csv"
   ]
  },
  {
   "cell_type": "code",
   "execution_count": 3,
   "metadata": {
    "id": "DdqrL93UYZSC"
   },
   "outputs": [],
   "source": [
    "history = []\n",
    "with open('key_search_terms_cynthia.csv', 'r') as csvfile:\n",
    "    datareader = csv.reader(csvfile)\n",
    "    for row in datareader:\n",
    "        # prints normalized term\n",
    "        history.append(row[3])"
   ]
  },
  {
   "cell_type": "code",
   "execution_count": 4,
   "metadata": {
    "id": "mVNVvhhPYcXK"
   },
   "outputs": [],
   "source": [
    "# 2: encode list of sentences\n",
    "embedder = SentenceTransformer('all-MiniLM-L6-v2')\n",
    "sentence_emb = embedder.encode(history)"
   ]
  },
  {
   "cell_type": "code",
   "execution_count": 5,
   "metadata": {},
   "outputs": [
    {
     "data": {
      "text/plain": [
       "array([[ 0.06373724,  0.00106522, -0.01384311, ..., -0.05598177,\n",
       "        -0.00728491,  0.04343573],\n",
       "       [-0.03433718,  0.03175403,  0.04550651, ..., -0.00745682,\n",
       "        -0.02476485,  0.05791816],\n",
       "       [-0.00938377, -0.0115716 ,  0.00435117, ...,  0.00786904,\n",
       "         0.03910272, -0.16517085],\n",
       "       ...,\n",
       "       [-0.00328889, -0.01658282, -0.01217649, ...,  0.00036363,\n",
       "        -0.09554889, -0.01537744],\n",
       "       [-0.04977813,  0.00117314, -0.05280908, ...,  0.07438542,\n",
       "        -0.05489141, -0.1448951 ],\n",
       "       [-0.01228973, -0.04323885,  0.00942535, ...,  0.10191711,\n",
       "        -0.01194227,  0.05253671]], dtype=float32)"
      ]
     },
     "execution_count": 5,
     "metadata": {},
     "output_type": "execute_result"
    }
   ],
   "source": [
    "sentence_emb"
   ]
  },
  {
   "cell_type": "code",
   "execution_count": 6,
   "metadata": {
    "id": "cjZT4qsUYdfs"
   },
   "outputs": [],
   "source": [
    "# Perform kmean clustering\n",
    "# ideally set num_clusters dynamically \n",
    "\n",
    "def generate_clusters(num_clusters, history_list):\n",
    "    num_clusters = 10\n",
    "    clustering_model = KMeans(n_clusters=num_clusters)\n",
    "    clustering_model.fit(sentence_emb)\n",
    "    cluster_assignment = clustering_model.labels_\n",
    "\n",
    "    clustered_sentences = [[] for i in range(num_clusters)]\n",
    "    for sentence_id, cluster_id in enumerate(cluster_assignment):\n",
    "        clustered_sentences[cluster_id].append(history[sentence_id])\n",
    "    \n",
    "    for i, cluster in enumerate(clustered_sentences):\n",
    "        print(\"Cluster \", i+1)\n",
    "        print(cluster)\n",
    "        print(\"\")\n"
   ]
  },
  {
   "cell_type": "code",
   "execution_count": null,
   "metadata": {
    "id": "NVbh6IVjYfB-"
   },
   "outputs": [],
   "source": [
    "# recursively do\n",
    "generate_clusters(30, history)"
   ]
  },
  {
   "cell_type": "code",
   "execution_count": null,
   "metadata": {},
   "outputs": [],
   "source": []
  }
 ],
 "metadata": {
  "colab": {
   "name": "sentence_transformers_v2.ipynb",
   "provenance": []
  },
  "kernelspec": {
   "display_name": "py_hl",
   "language": "python",
   "name": "py_hl"
  },
  "language_info": {
   "codemirror_mode": {
    "name": "ipython",
    "version": 3
   },
   "file_extension": ".py",
   "mimetype": "text/x-python",
   "name": "python",
   "nbconvert_exporter": "python",
   "pygments_lexer": "ipython3",
   "version": "3.9.12"
  }
 },
 "nbformat": 4,
 "nbformat_minor": 1
}
